{
  "nbformat": 4,
  "nbformat_minor": 0,
  "metadata": {
    "colab": {
      "provenance": [],
      "authorship_tag": "ABX9TyMrnYDlXuW9BmlfHD0fFsGM",
      "include_colab_link": true
    },
    "kernelspec": {
      "name": "python3",
      "display_name": "Python 3"
    },
    "language_info": {
      "name": "python"
    }
  },
  "cells": [
    {
      "cell_type": "markdown",
      "metadata": {
        "id": "view-in-github",
        "colab_type": "text"
      },
      "source": [
        "<a href=\"https://colab.research.google.com/github/mmghorbani/Machine_Learning_2024/blob/main/EX1.ipynb\" target=\"_parent\"><img src=\"https://colab.research.google.com/assets/colab-badge.svg\" alt=\"Open In Colab\"/></a>"
      ]
    },
    {
      "cell_type": "markdown",
      "source": [
        "# Q5"
      ],
      "metadata": {
        "id": "sQlNbZNrdi_7"
      }
    },
    {
      "cell_type": "code",
      "source": [
        "import numpy as np\n",
        "\n",
        "# Uppertriangle matrix with zero element\n",
        "A1 = np.array([[1, 2, 3],[0, 0, 3],[0, 0, 3]])\n",
        "print(A1)\n",
        "print('Det = ', np.linalg.det(A1))\n",
        "\n",
        "# Uppertriangle matrix without zero element\n",
        "A2 = np.array([[1, 2, 3],[0, 2, 3],[0, 0, 3]])\n",
        "print(A2)\n",
        "print('Det = ', np.linalg.det(A2))"
      ],
      "metadata": {
        "id": "J-jqmXNudmEi",
        "colab": {
          "base_uri": "https://localhost:8080/"
        },
        "outputId": "6e7994cd-0be2-42ac-d250-2d86ec009a53"
      },
      "execution_count": 9,
      "outputs": [
        {
          "output_type": "stream",
          "name": "stdout",
          "text": [
            "[[1 2 3]\n",
            " [0 0 3]\n",
            " [0 0 3]]\n",
            "Det =  0.0\n",
            "[[1 2 3]\n",
            " [0 2 3]\n",
            " [0 0 3]]\n",
            "Det =  6.0\n"
          ]
        }
      ]
    },
    {
      "cell_type": "markdown",
      "source": [
        "# Q6\n"
      ],
      "metadata": {
        "id": "GTfgtfCvbmgs"
      }
    },
    {
      "cell_type": "code",
      "execution_count": null,
      "metadata": {
        "colab": {
          "base_uri": "https://localhost:8080/"
        },
        "id": "baO30LQMUUPc",
        "outputId": "1e89df19-62cf-4291-cffb-09afeb680fb0"
      },
      "outputs": [
        {
          "output_type": "stream",
          "name": "stdout",
          "text": [
            "Results are same\n",
            "Time taken by loop method:  0.01579736899998352\n",
            "Time taken by dot method:  0.015628609000032156\n",
            "Time difference:  0.00016875999995136226\n"
          ]
        }
      ],
      "source": [
        "import numpy as np\n",
        "import timeit\n",
        "\n",
        "m , n = 20, 10\n",
        "\n",
        "A = np.random.rand(m,n)\n",
        "k = np.random.rand(n)\n",
        "p1 = np.zeros(m)\n",
        "p2 = np.zeros(m)\n",
        "\n",
        "# Calculate A*p by loop method\n",
        "\n",
        "for i in range(n):\n",
        "      p1 += A[:,i] * k[i]\n",
        "\n",
        "\n",
        "# Calculate A*p by dot method\n",
        "p2 = np.dot(A,k)\n",
        "\n",
        "\n",
        "# Check similarity of results\n",
        "if np.allclose(p1,p2) == True:\n",
        "    print(\"Results are same\")\n",
        "else:\n",
        "    print(\"Results are different\")\n",
        "\n",
        "\n",
        "# Calculate Time difference\n",
        "t1 = timeit.timeit(\"p1\", globals=globals())\n",
        "t2 = timeit.timeit(\"p2\", globals=globals())\n",
        "\n",
        "print('Time taken by loop method: ', t1)\n",
        "print('Time taken by dot method: ', t2)\n",
        "print('Time difference: ', t1-t2)"
      ]
    }
  ]
}